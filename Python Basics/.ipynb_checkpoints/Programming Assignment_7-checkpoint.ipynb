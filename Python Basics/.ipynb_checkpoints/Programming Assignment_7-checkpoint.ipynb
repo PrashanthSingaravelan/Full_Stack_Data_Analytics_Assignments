{
 "cells": [
  {
   "cell_type": "markdown",
   "id": "35297a20",
   "metadata": {},
   "source": [
    "## Programming Basic Assignment 7"
   ]
  },
  {
   "cell_type": "markdown",
   "id": "27349114",
   "metadata": {},
   "source": [
    "### 1. Write a Python Program to find sum of array?"
   ]
  },
  {
   "cell_type": "code",
   "execution_count": 1,
   "id": "32b285a0",
   "metadata": {},
   "outputs": [
    {
     "name": "stdout",
     "output_type": "stream",
     "text": [
      "Enter the list elements : 11 12 13 14 15\n",
      "List Sum :  65\n"
     ]
    }
   ],
   "source": [
    "list1 = list(map(int, input(\"Enter the list elements : \").strip().split()))\n",
    "print(\"List Sum : \",sum(list1))"
   ]
  },
  {
   "cell_type": "markdown",
   "id": "171a980d",
   "metadata": {},
   "source": [
    "### 2. Write a Python Program to find largest element in an array?\n"
   ]
  },
  {
   "cell_type": "code",
   "execution_count": 2,
   "id": "93d99b39",
   "metadata": {},
   "outputs": [
    {
     "name": "stdout",
     "output_type": "stream",
     "text": [
      "Enter the list elements : 90 80 70 30\n",
      "List Max :  90\n"
     ]
    }
   ],
   "source": [
    "list1 = list(map(int, input(\"Enter the list elements : \").strip().split()))\n",
    "print(\"List Max : \",max(list1))"
   ]
  },
  {
   "cell_type": "markdown",
   "id": "21613246",
   "metadata": {},
   "source": [
    "### 3. Write a Python Program for array rotation?"
   ]
  },
  {
   "cell_type": "code",
   "execution_count": 3,
   "id": "1b49854d",
   "metadata": {},
   "outputs": [
    {
     "name": "stdout",
     "output_type": "stream",
     "text": [
      "Enter the list elements : 2 4 5 6\n",
      "List Rotation :  [6, 5, 4, 2]\n"
     ]
    }
   ],
   "source": [
    "list1 = list(map(int, input(\"Enter the list elements : \").strip().split()))\n",
    "list1.reverse()\n",
    "print(\"List Rotation : \",list1)"
   ]
  },
  {
   "cell_type": "markdown",
   "id": "3e52d939",
   "metadata": {},
   "source": [
    "### 4. Write a Python Program to Split the array and add the first part to the end?"
   ]
  },
  {
   "cell_type": "code",
   "execution_count": 4,
   "id": "8f60cf94",
   "metadata": {},
   "outputs": [],
   "source": [
    "def split_array(list1, position):\n",
    "    temp_list = list1[:position]\n",
    "    del list1[:position]\n",
    "    list1.extend(temp_list)\n",
    "    return list1"
   ]
  },
  {
   "cell_type": "code",
   "execution_count": 5,
   "id": "cc6325c5",
   "metadata": {},
   "outputs": [
    {
     "name": "stdout",
     "output_type": "stream",
     "text": [
      "Enter the list elements : 15 16 18 20\n",
      "Enter the position : 3\n"
     ]
    },
    {
     "data": {
      "text/plain": [
       "[20, 15, 16, 18]"
      ]
     },
     "execution_count": 5,
     "metadata": {},
     "output_type": "execute_result"
    }
   ],
   "source": [
    "list1    = list(map(int, input(\"Enter the list elements : \").strip().split()))\n",
    "position = int(input(\"Enter the position : \"))\n",
    "ans_list = split_array(list1, position)\n",
    "ans_list"
   ]
  },
  {
   "cell_type": "markdown",
   "id": "aa375779",
   "metadata": {},
   "source": [
    "### 5. Write a Python Program to check if given array is Monotonic?"
   ]
  },
  {
   "cell_type": "code",
   "execution_count": 6,
   "id": "e744e5ff",
   "metadata": {},
   "outputs": [],
   "source": [
    "def isMonotonic(list1):  ## monotonic --> array should increase or decrease\n",
    "     return (\n",
    "         all(list1[i] <= list1[i + 1] for i in range(len(list1) - 1)) or\n",
    "         all(list1[i] >= list1[i + 1] for i in range(len(list1) - 1))\n",
    "     )"
   ]
  },
  {
   "cell_type": "code",
   "execution_count": 7,
   "id": "f6756395",
   "metadata": {},
   "outputs": [
    {
     "name": "stdout",
     "output_type": "stream",
     "text": [
      "Enter the list elements : 2 10 30 40\n"
     ]
    },
    {
     "data": {
      "text/plain": [
       "True"
      ]
     },
     "execution_count": 7,
     "metadata": {},
     "output_type": "execute_result"
    }
   ],
   "source": [
    "list1 = list(map(int, input(\"Enter the list elements : \").strip().split()))\n",
    "isMonotonic(list1)"
   ]
  }
 ],
 "metadata": {
  "kernelspec": {
   "display_name": "Python 3 (ipykernel)",
   "language": "python",
   "name": "python3"
  },
  "language_info": {
   "codemirror_mode": {
    "name": "ipython",
    "version": 3
   },
   "file_extension": ".py",
   "mimetype": "text/x-python",
   "name": "python",
   "nbconvert_exporter": "python",
   "pygments_lexer": "ipython3",
   "version": "3.10.6"
  }
 },
 "nbformat": 4,
 "nbformat_minor": 5
}
