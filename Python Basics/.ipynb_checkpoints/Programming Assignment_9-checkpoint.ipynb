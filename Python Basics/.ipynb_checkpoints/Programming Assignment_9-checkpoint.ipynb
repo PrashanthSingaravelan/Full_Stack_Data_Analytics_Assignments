{
 "cells": [
  {
   "cell_type": "markdown",
   "id": "47b9bb99",
   "metadata": {},
   "source": [
    "## Programming Assignment_9\n",
    "----------------"
   ]
  },
  {
   "cell_type": "markdown",
   "id": "c725f7a9",
   "metadata": {},
   "source": [
    "### 1. Write a Python program to check if the given number is a Disarium Number?"
   ]
  },
  {
   "cell_type": "code",
   "execution_count": 20,
   "id": "16bd57e7",
   "metadata": {},
   "outputs": [
    {
     "name": "stdout",
     "output_type": "stream",
     "text": [
      "Enter a number : 136\n",
      "136 is Not a Disarium Number\n"
     ]
    }
   ],
   "source": [
    "import numpy as np\n",
    "\n",
    "n     = int(input(\"Enter a number : \"))\n",
    "str_n = str(n)\n",
    "ans   = 0\n",
    "index = 0\n",
    "for i in range(1, len(str_n) + 1):\n",
    "    ans += np.power(int(str_n[index]), i)\n",
    "    index+=1\n",
    "    \n",
    "ans = \"Disarium Number\" if ans == n else \"Not a Disarium Number\"\n",
    "print(\"{} is {}\".format(n,ans))"
   ]
  },
  {
   "cell_type": "markdown",
   "id": "f0064401",
   "metadata": {},
   "source": [
    "### 2. Write a Python program to print all disarium numbers between 1 to 100?"
   ]
  },
  {
   "cell_type": "code",
   "execution_count": 25,
   "id": "00dbd73c",
   "metadata": {},
   "outputs": [
    {
     "name": "stdout",
     "output_type": "stream",
     "text": [
      "1 is a Disarium Number\n",
      "2 is a Disarium Number\n",
      "3 is a Disarium Number\n",
      "4 is a Disarium Number\n",
      "5 is a Disarium Number\n",
      "6 is a Disarium Number\n",
      "7 is a Disarium Number\n",
      "8 is a Disarium Number\n",
      "9 is a Disarium Number\n",
      "89 is a Disarium Number\n"
     ]
    }
   ],
   "source": [
    "for j in range(1,100):\n",
    "    str_n = str(j)\n",
    "    ans   = 0\n",
    "    index = 0\n",
    "    for i in range(1, len(str_n) + 1):\n",
    "        ans += np.power(int(str_n[index]), i)\n",
    "        index+=1\n",
    "\n",
    "    if ans == int(str_n):\n",
    "        print(\"{} is a Disarium Number\".format(str_n))"
   ]
  },
  {
   "cell_type": "markdown",
   "id": "31df1e4a",
   "metadata": {},
   "source": [
    "### 3. Write a Python program to check if the given number is Happy Number?"
   ]
  },
  {
   "cell_type": "markdown",
   "id": "51b265e3",
   "metadata": {},
   "source": [
    "### 4. Write a Python program to print all happy numbers between 1 and 100?"
   ]
  },
  {
   "cell_type": "markdown",
   "id": "6a190ee0",
   "metadata": {},
   "source": [
    "### 5. Write a Python program to determine whether the given number is a Harshad Number?"
   ]
  },
  {
   "cell_type": "markdown",
   "id": "7a7ea92e",
   "metadata": {},
   "source": [
    "### 6. Write a Python program to print all pronic numbers between 1 and 100?"
   ]
  }
 ],
 "metadata": {
  "kernelspec": {
   "display_name": "Python 3 (ipykernel)",
   "language": "python",
   "name": "python3"
  },
  "language_info": {
   "codemirror_mode": {
    "name": "ipython",
    "version": 3
   },
   "file_extension": ".py",
   "mimetype": "text/x-python",
   "name": "python",
   "nbconvert_exporter": "python",
   "pygments_lexer": "ipython3",
   "version": "3.10.6"
  }
 },
 "nbformat": 4,
 "nbformat_minor": 5
}
